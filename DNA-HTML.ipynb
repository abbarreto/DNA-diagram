{
 "cells": [
  {
   "cell_type": "code",
   "execution_count": 1,
   "metadata": {},
   "outputs": [],
   "source": [
    "entradaH = open(\"dados/human.fasta\").read()\n",
    "saidaH = open(\"out-H.html\",\"w\")\n",
    "entradaB = open(\"dados/bacteria.fasta\").read()\n",
    "saidaB = open(\"out-B.html\",\"w\")\n",
    "entradaC = open(\"dados/covid.fasta\").read()\n",
    "saidaC = open(\"out-C.html\",\"w\")\n",
    "\n",
    "entradaH = entradaH.replace(\"\\n\",\"\")\n",
    "entradaB = entradaB.replace(\"\\n\",\"\")\n",
    "entradaC = entradaC.replace(\"\\n\",\"\")"
   ]
  },
  {
   "cell_type": "code",
   "execution_count": 2,
   "metadata": {},
   "outputs": [],
   "source": [
    "contH = {}\n",
    "contB = {}\n",
    "contC = {}"
   ]
  },
  {
   "cell_type": "code",
   "execution_count": 3,
   "metadata": {},
   "outputs": [
    {
     "name": "stdout",
     "output_type": "stream",
     "text": [
      "{'AA': 0, 'AT': 0, 'AC': 0, 'AG': 0, 'TA': 0, 'TT': 0, 'TC': 0, 'TG': 0, 'CA': 0, 'CT': 0, 'CC': 0, 'CG': 0, 'GA': 0, 'GT': 0, 'GC': 0, 'GG': 0}\n"
     ]
    },
    {
     "data": {
      "text/plain": [
       "16"
      ]
     },
     "execution_count": 3,
     "metadata": {},
     "output_type": "execute_result"
    }
   ],
   "source": [
    "for mol1 in ['A','T','C','G']:\n",
    "    for mol2 in ['A','T','C','G']:\n",
    "        contH[mol1+mol2] = 0\n",
    "print(contH)\n",
    "len(contH)"
   ]
  },
  {
   "cell_type": "code",
   "execution_count": 4,
   "metadata": {},
   "outputs": [
    {
     "name": "stdout",
     "output_type": "stream",
     "text": [
      "{'AA': 0, 'AT': 0, 'AC': 0, 'AG': 0, 'TA': 0, 'TT': 0, 'TC': 0, 'TG': 0, 'CA': 0, 'CT': 0, 'CC': 0, 'CG': 0, 'GA': 0, 'GT': 0, 'GC': 0, 'GG': 0}\n"
     ]
    },
    {
     "data": {
      "text/plain": [
       "16"
      ]
     },
     "execution_count": 4,
     "metadata": {},
     "output_type": "execute_result"
    }
   ],
   "source": [
    "for mol1 in ['A','T','C','G']:\n",
    "    for mol2 in ['A','T','C','G']:\n",
    "        contB[mol1+mol2] = 0\n",
    "print(contB)\n",
    "len(contB)"
   ]
  },
  {
   "cell_type": "code",
   "execution_count": 5,
   "metadata": {},
   "outputs": [
    {
     "name": "stdout",
     "output_type": "stream",
     "text": [
      "{'AA': 0, 'AT': 0, 'AC': 0, 'AG': 0, 'TA': 0, 'TT': 0, 'TC': 0, 'TG': 0, 'CA': 0, 'CT': 0, 'CC': 0, 'CG': 0, 'GA': 0, 'GT': 0, 'GC': 0, 'GG': 0}\n"
     ]
    },
    {
     "data": {
      "text/plain": [
       "16"
      ]
     },
     "execution_count": 5,
     "metadata": {},
     "output_type": "execute_result"
    }
   ],
   "source": [
    "for mol1 in ['A','T','C','G']:\n",
    "    for mol2 in ['A','T','C','G']:\n",
    "        contC[mol1+mol2] = 0\n",
    "print(contC)\n",
    "len(contC)"
   ]
  },
  {
   "cell_type": "code",
   "execution_count": 6,
   "metadata": {},
   "outputs": [
    {
     "name": "stdout",
     "output_type": "stream",
     "text": [
      "Humano:  {'AA': 116, 'AT': 95, 'AC': 97, 'AG': 113, 'TA': 85, 'TT': 113, 'TC': 109, 'TG': 111, 'CA': 87, 'CT': 105, 'CC': 184, 'CG': 170, 'GA': 134, 'GT': 105, 'GC': 155, 'GG': 184}\n",
      "Bacteria:  {'AA': 105, 'AT': 64, 'AC': 86, 'AG': 111, 'TA': 64, 'TT': 57, 'TC': 60, 'TG': 108, 'CA': 83, 'CT': 75, 'CC': 74, 'CG': 97, 'GA': 113, 'GT': 93, 'GC': 109, 'GG': 147}\n",
      "Covid:  {'AA': 2867, 'AT': 2309, 'AC': 2022, 'AG': 1742, 'TA': 2378, 'TT': 3216, 'TC': 1412, 'TG': 2590, 'CA': 2083, 'CT': 2081, 'CC': 888, 'CG': 438, 'GA': 1612, 'GT': 1990, 'GC': 1168, 'GG': 1093}\n"
     ]
    }
   ],
   "source": [
    "for i in range(len(entradaH)-1):\n",
    "    contH[entradaH[i] + entradaH[i+1]] += 1\n",
    "\n",
    "for j in range(len(entradaB)-1):\n",
    "    contB[entradaB[j]+entradaB[j+1]] += 1\n",
    "\n",
    "for k in range(len(entradaC)-1):\n",
    "    contC[entradaC[k]+entradaC[k+1]] += 1\n",
    "    \n",
    "print('Humano: ', contH)\n",
    "print('Bacteria: ', contB)\n",
    "print('Covid: ', contC)"
   ]
  },
  {
   "cell_type": "code",
   "execution_count": 7,
   "metadata": {},
   "outputs": [],
   "source": [
    "i = 1\n",
    "for k in contH:\n",
    "    transparenciaH = contH[k]/max(contH.values())\n",
    "    saidaH.write(\"<div style='width:100px; height:100px; border:1px solid #111; color:#fff; float:left; background-color: rgba(0, 0, 0, \"+str(transparenciaH)+\")'>\"+k+\"</div>\")\n",
    "    \n",
    "    if i%4 == 0:\n",
    "        saidaH.write(\"<div style='clear:both'></div>\")\n",
    "    \n",
    "    i+=1"
   ]
  },
  {
   "cell_type": "code",
   "execution_count": 8,
   "metadata": {},
   "outputs": [],
   "source": [
    "saidaH.close()"
   ]
  },
  {
   "cell_type": "code",
   "execution_count": 9,
   "metadata": {},
   "outputs": [],
   "source": [
    "j = 1\n",
    "for k in contB:\n",
    "    transparenciaB = contB[k]/max(contB.values())\n",
    "    saidaB.write(\"<div style='width:100px; height:100px; border:1px solid #111; color:#fff; float:left; background-color: rgba(0, 0, 0, \"+str(transparenciaB)+\")'>\"+k+\"</div>\")\n",
    "    \n",
    "    if j%4 == 0:\n",
    "        saidaB.write(\"<div style='clear:both'></div>\")\n",
    "    \n",
    "    j+=1"
   ]
  },
  {
   "cell_type": "code",
   "execution_count": 10,
   "metadata": {},
   "outputs": [],
   "source": [
    "saidaB.close()"
   ]
  },
  {
   "cell_type": "code",
   "execution_count": 11,
   "metadata": {},
   "outputs": [],
   "source": [
    "l = 1\n",
    "for k in contC:\n",
    "    transparenciaC = contC[k]/max(contC.values())\n",
    "    saidaC.write(\"<div style='width:100px; height:100px; border:1px solid #111; color:#fff; float:left; background-color: rgba(0, 0, 0, \"+str(transparenciaC)+\")'>\"+k+\"</div>\")\n",
    "    \n",
    "    if l%4 == 0:\n",
    "        saidaC.write(\"<div style='clear:both'></div>\")\n",
    "    \n",
    "    l+=1"
   ]
  },
  {
   "cell_type": "code",
   "execution_count": 12,
   "metadata": {},
   "outputs": [],
   "source": [
    "saidaC.close()"
   ]
  },
  {
   "cell_type": "code",
   "execution_count": 29,
   "metadata": {},
   "outputs": [
    {
     "data": {
      "text/html": [
       "<h2>Covid</h1>"
      ],
      "text/plain": [
       "<IPython.core.display.HTML object>"
      ]
     },
     "metadata": {},
     "output_type": "display_data"
    },
    {
     "data": {
      "text/html": [
       "\n",
       "        <iframe\n",
       "            width=\"500\"\n",
       "            height=\"450\"\n",
       "            src=\"./out-C.html\"\n",
       "            frameborder=\"0\"\n",
       "            allowfullscreen\n",
       "        ></iframe>\n",
       "        "
      ],
      "text/plain": [
       "<IPython.lib.display.IFrame at 0x7f067031ddd8>"
      ]
     },
     "execution_count": 29,
     "metadata": {},
     "output_type": "execute_result"
    }
   ],
   "source": [
    "display(HTML('<h2>Covid</h1>'))\n",
    "IFrame(src='./out-C.html',width=500, height=450)"
   ]
  },
  {
   "cell_type": "code",
   "execution_count": 30,
   "metadata": {},
   "outputs": [
    {
     "data": {
      "text/html": [
       "<h2>Humano</h1>"
      ],
      "text/plain": [
       "<IPython.core.display.HTML object>"
      ]
     },
     "metadata": {},
     "output_type": "display_data"
    },
    {
     "data": {
      "text/html": [
       "\n",
       "        <iframe\n",
       "            width=\"500\"\n",
       "            height=\"450\"\n",
       "            src=\"./out-H.html\"\n",
       "            frameborder=\"0\"\n",
       "            allowfullscreen\n",
       "        ></iframe>\n",
       "        "
      ],
      "text/plain": [
       "<IPython.lib.display.IFrame at 0x7f067031de10>"
      ]
     },
     "execution_count": 30,
     "metadata": {},
     "output_type": "execute_result"
    }
   ],
   "source": [
    "display(HTML('<h2>Humano</h1>'))\n",
    "IFrame(src='./out-H.html',width=500, height=450)"
   ]
  },
  {
   "cell_type": "code",
   "execution_count": 31,
   "metadata": {},
   "outputs": [
    {
     "data": {
      "text/html": [
       "<h2>Bactéria</h1>"
      ],
      "text/plain": [
       "<IPython.core.display.HTML object>"
      ]
     },
     "metadata": {},
     "output_type": "display_data"
    },
    {
     "data": {
      "text/html": [
       "\n",
       "        <iframe\n",
       "            width=\"500\"\n",
       "            height=\"450\"\n",
       "            src=\"./out-B.html\"\n",
       "            frameborder=\"0\"\n",
       "            allowfullscreen\n",
       "        ></iframe>\n",
       "        "
      ],
      "text/plain": [
       "<IPython.lib.display.IFrame at 0x7f067031def0>"
      ]
     },
     "execution_count": 31,
     "metadata": {},
     "output_type": "execute_result"
    }
   ],
   "source": [
    "display(HTML('<h2>Bactéria</h1>'))\n",
    "IFrame(src='./out-B.html',width=500, height=450)"
   ]
  },
  {
   "cell_type": "code",
   "execution_count": null,
   "metadata": {},
   "outputs": [],
   "source": []
  }
 ],
 "metadata": {
  "kernelspec": {
   "display_name": "Python 3",
   "language": "python",
   "name": "python3"
  },
  "language_info": {
   "codemirror_mode": {
    "name": "ipython",
    "version": 3
   },
   "file_extension": ".py",
   "mimetype": "text/x-python",
   "name": "python",
   "nbconvert_exporter": "python",
   "pygments_lexer": "ipython3",
   "version": "3.7.0"
  }
 },
 "nbformat": 4,
 "nbformat_minor": 2
}
